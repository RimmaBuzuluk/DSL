{
  "nbformat": 4,
  "nbformat_minor": 0,
  "metadata": {
    "colab": {
      "name": "Untitled0.ipynb",
      "provenance": [],
      "authorship_tag": "ABX9TyOyWNyhFrj3oRbhLcu9LdP/",
      "include_colab_link": true
    },
    "kernelspec": {
      "name": "python3",
      "display_name": "Python 3"
    },
    "language_info": {
      "name": "python"
    }
  },
  "cells": [
    {
      "cell_type": "markdown",
      "metadata": {
        "id": "view-in-github",
        "colab_type": "text"
      },
      "source": [
        "<a href=\"https://colab.research.google.com/github/RimmaBuzuluk/DSL/blob/main/task1.ipynb\" target=\"_parent\"><img src=\"https://colab.research.google.com/assets/colab-badge.svg\" alt=\"Open In Colab\"/></a>"
      ]
    },
    {
      "cell_type": "code",
      "metadata": {
        "id": "3dNJnVq2Xym2"
      },
      "source": [
        "def whitespaces_text(text,whitespaces):\n",
        "    list_A=[] #сreate a list \n",
        "    token=\"\"\n",
        "    for n in text: #'n'-any letter\n",
        "            \n",
        "        if (token==\"\" and n in whitespaces):\n",
        "            continue\n",
        "\n",
        "        elif n in whitespaces: #if n is in whitespaces, we add word to the list \n",
        "            list_A.append(token)\n",
        "            token=\"\"\n",
        "        else: #if n is not in whitespaces, add a current symbol to the word and go in the next letter\n",
        "            token +=n\n",
        "    if len(token) !=0:\n",
        "        list_A.append(token) # write the new word to the list \n",
        "    return list_A\n",
        "\n",
        "text=\"home work 1 \"  # my any phrase\n",
        "whitespaces= {'\\n', '\\t', ' '} #  separator symbols\n",
        "print(whitespaces_text(text,whitespaces))\n",
        "\n"
      ],
      "execution_count": null,
      "outputs": []
    }
  ]
}